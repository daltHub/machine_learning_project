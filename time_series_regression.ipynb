{
 "cells": [
  {
   "cell_type": "markdown",
   "metadata": {},
   "source": [
    "# Using Time Series to more accurately predict wave heights"
   ]
  },
  {
   "cell_type": "code",
   "execution_count": 15,
   "metadata": {},
   "outputs": [],
   "source": [
    "import utilities.misc as misc\n",
    "import utilities.metrics as mtr\n",
    "import utilities.ml_functions as ml\n",
    "import pandas as pd\n",
    "from datetime import datetime"
   ]
  },
  {
   "cell_type": "code",
   "execution_count": 25,
   "metadata": {},
   "outputs": [
    {
     "data": {
      "text/html": [
       "<div>\n",
       "<style scoped>\n",
       "    .dataframe tbody tr th:only-of-type {\n",
       "        vertical-align: middle;\n",
       "    }\n",
       "\n",
       "    .dataframe tbody tr th {\n",
       "        vertical-align: top;\n",
       "    }\n",
       "\n",
       "    .dataframe thead th {\n",
       "        text-align: right;\n",
       "    }\n",
       "</style>\n",
       "<table border=\"1\" class=\"dataframe\">\n",
       "  <thead>\n",
       "    <tr style=\"text-align: right;\">\n",
       "      <th></th>\n",
       "      <th>Unnamed: 0</th>\n",
       "      <th>time</th>\n",
       "      <th>station_id</th>\n",
       "      <th>AtmosphericPressure</th>\n",
       "      <th>WindDirection</th>\n",
       "      <th>WindSpeed</th>\n",
       "      <th>Gust</th>\n",
       "      <th>WaveHeight</th>\n",
       "      <th>WavePeriod</th>\n",
       "      <th>MeanWaveDirection</th>\n",
       "      <th>Hmax</th>\n",
       "      <th>SeaTemperature</th>\n",
       "      <th>date</th>\n",
       "      <th>timestamps</th>\n",
       "    </tr>\n",
       "  </thead>\n",
       "  <tbody>\n",
       "    <tr>\n",
       "      <th>0</th>\n",
       "      <td>1953</td>\n",
       "      <td>00:00:00</td>\n",
       "      <td>M2</td>\n",
       "      <td>1020.0</td>\n",
       "      <td>330.0</td>\n",
       "      <td>2.92</td>\n",
       "      <td>3.9</td>\n",
       "      <td>0.6</td>\n",
       "      <td>4.0</td>\n",
       "      <td>NaN</td>\n",
       "      <td>NaN</td>\n",
       "      <td>8.6</td>\n",
       "      <td>2001-05-05</td>\n",
       "      <td>989020800</td>\n",
       "    </tr>\n",
       "    <tr>\n",
       "      <th>1</th>\n",
       "      <td>1955</td>\n",
       "      <td>01:00:00</td>\n",
       "      <td>M2</td>\n",
       "      <td>1020.8</td>\n",
       "      <td>330.0</td>\n",
       "      <td>4.09</td>\n",
       "      <td>5.8</td>\n",
       "      <td>0.4</td>\n",
       "      <td>4.0</td>\n",
       "      <td>NaN</td>\n",
       "      <td>NaN</td>\n",
       "      <td>8.6</td>\n",
       "      <td>2001-05-05</td>\n",
       "      <td>989024400</td>\n",
       "    </tr>\n",
       "    <tr>\n",
       "      <th>2</th>\n",
       "      <td>1957</td>\n",
       "      <td>02:00:00</td>\n",
       "      <td>M2</td>\n",
       "      <td>1020.8</td>\n",
       "      <td>350.0</td>\n",
       "      <td>4.09</td>\n",
       "      <td>5.8</td>\n",
       "      <td>0.4</td>\n",
       "      <td>4.0</td>\n",
       "      <td>NaN</td>\n",
       "      <td>NaN</td>\n",
       "      <td>8.7</td>\n",
       "      <td>2001-05-05</td>\n",
       "      <td>989028000</td>\n",
       "    </tr>\n",
       "    <tr>\n",
       "      <th>3</th>\n",
       "      <td>1959</td>\n",
       "      <td>03:00:00</td>\n",
       "      <td>M2</td>\n",
       "      <td>1021.2</td>\n",
       "      <td>350.0</td>\n",
       "      <td>1.95</td>\n",
       "      <td>5.8</td>\n",
       "      <td>0.4</td>\n",
       "      <td>4.0</td>\n",
       "      <td>NaN</td>\n",
       "      <td>NaN</td>\n",
       "      <td>8.7</td>\n",
       "      <td>2001-05-05</td>\n",
       "      <td>989031600</td>\n",
       "    </tr>\n",
       "    <tr>\n",
       "      <th>4</th>\n",
       "      <td>1961</td>\n",
       "      <td>04:00:00</td>\n",
       "      <td>M2</td>\n",
       "      <td>1021.4</td>\n",
       "      <td>30.0</td>\n",
       "      <td>2.92</td>\n",
       "      <td>5.8</td>\n",
       "      <td>0.4</td>\n",
       "      <td>4.0</td>\n",
       "      <td>NaN</td>\n",
       "      <td>NaN</td>\n",
       "      <td>8.7</td>\n",
       "      <td>2001-05-05</td>\n",
       "      <td>989035200</td>\n",
       "    </tr>\n",
       "  </tbody>\n",
       "</table>\n",
       "</div>"
      ],
      "text/plain": [
       "   Unnamed: 0      time station_id  AtmosphericPressure  WindDirection  \\\n",
       "0        1953  00:00:00         M2               1020.0          330.0   \n",
       "1        1955  01:00:00         M2               1020.8          330.0   \n",
       "2        1957  02:00:00         M2               1020.8          350.0   \n",
       "3        1959  03:00:00         M2               1021.2          350.0   \n",
       "4        1961  04:00:00         M2               1021.4           30.0   \n",
       "\n",
       "   WindSpeed  Gust  WaveHeight  WavePeriod  MeanWaveDirection  Hmax  \\\n",
       "0       2.92   3.9         0.6         4.0                NaN   NaN   \n",
       "1       4.09   5.8         0.4         4.0                NaN   NaN   \n",
       "2       4.09   5.8         0.4         4.0                NaN   NaN   \n",
       "3       1.95   5.8         0.4         4.0                NaN   NaN   \n",
       "4       2.92   5.8         0.4         4.0                NaN   NaN   \n",
       "\n",
       "   SeaTemperature        date  timestamps  \n",
       "0             8.6  2001-05-05   989020800  \n",
       "1             8.6  2001-05-05   989024400  \n",
       "2             8.7  2001-05-05   989028000  \n",
       "3             8.7  2001-05-05   989031600  \n",
       "4             8.7  2001-05-05   989035200  "
      ]
     },
     "execution_count": 25,
     "metadata": {},
     "output_type": "execute_result"
    }
   ],
   "source": [
    "# convert datetime to unix\n",
    "df = pd.read_csv('clean_weather/valid_dates/m2_valid_dates.csv')\n",
    "start_date = min(df['time'])\n",
    "end_date = max(df['time'])\n",
    "\n",
    "df['timestamps'] = (df['date'] + ' ' +df['time'])\n",
    "# df['timestamps'] = datetime.strptime(df['timestamps'], '%m/%d/%y %H:%M:%S')\n",
    "df['timestamps'] = pd.to_datetime(df['timestamps'])\n",
    "df['timestamps'] = (df['timestamps'] - pd.Timestamp(\"1970-01-01\")) // pd.Timedelta('1s')  \n",
    "\n",
    "df.head()\n"
   ]
  },
  {
   "cell_type": "code",
   "execution_count": 5,
   "metadata": {},
   "outputs": [
    {
     "data": {
      "text/plain": [
       "Int64Index([1547559000], dtype='int64')"
      ]
     },
     "execution_count": 5,
     "metadata": {},
     "output_type": "execute_result"
    }
   ],
   "source": [
    "dates = pd.to_datetime(['2019-01-15 13:30:00'])\n",
    "(dates - pd.Timestamp(\"1970-01-01\")) // pd.Timedelta('1s')  \n",
    "# Int64Index([1547559000], dtype='int64')"
   ]
  },
  {
   "cell_type": "code",
   "execution_count": null,
   "metadata": {},
   "outputs": [],
   "source": [
    "# plot data in time \n"
   ]
  },
  {
   "cell_type": "code",
   "execution_count": null,
   "metadata": {},
   "outputs": [],
   "source": [
    "# predict using daily seasonality"
   ]
  }
 ],
 "metadata": {
  "interpreter": {
   "hash": "c4f3a0e336a38bae68654725b3a3f1cf72721c49ae4cdf2f579a678d5e71f98f"
  },
  "kernelspec": {
   "display_name": "Python 3.8.8 64-bit ('fyp': conda)",
   "language": "python",
   "name": "python3"
  },
  "language_info": {
   "codemirror_mode": {
    "name": "ipython",
    "version": 3
   },
   "file_extension": ".py",
   "mimetype": "text/x-python",
   "name": "python",
   "nbconvert_exporter": "python",
   "pygments_lexer": "ipython3",
   "version": "3.8.5"
  },
  "orig_nbformat": 4
 },
 "nbformat": 4,
 "nbformat_minor": 2
}
