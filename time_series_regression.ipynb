{
 "cells": [
  {
   "cell_type": "markdown",
   "metadata": {},
   "source": [
    "# Using Time Series to more accurately predict wave heights"
   ]
  },
  {
   "cell_type": "code",
   "execution_count": 1,
   "metadata": {},
   "outputs": [],
   "source": [
    "import utilities.misc as misc\n",
    "import utilities.metrics as mtr\n",
    "import utilities.ml_functions as ml\n",
    "import pandas as pd\n",
    "from datetime import datetime\n",
    "import matplotlib.pyplot as plt\n",
    "import math \n",
    "import numpy as np\n",
    "from matplotlib import cm\n",
    "from sklearn.linear_model import Ridge, Lasso\n",
    "from sklearn.model_selection import KFold, train_test_split"
   ]
  },
  {
   "cell_type": "code",
   "execution_count": 2,
   "metadata": {},
   "outputs": [
    {
     "data": {
      "text/html": [
       "<div>\n",
       "<style scoped>\n",
       "    .dataframe tbody tr th:only-of-type {\n",
       "        vertical-align: middle;\n",
       "    }\n",
       "\n",
       "    .dataframe tbody tr th {\n",
       "        vertical-align: top;\n",
       "    }\n",
       "\n",
       "    .dataframe thead th {\n",
       "        text-align: right;\n",
       "    }\n",
       "</style>\n",
       "<table border=\"1\" class=\"dataframe\">\n",
       "  <thead>\n",
       "    <tr style=\"text-align: right;\">\n",
       "      <th></th>\n",
       "      <th>Unnamed: 0</th>\n",
       "      <th>time</th>\n",
       "      <th>station_id</th>\n",
       "      <th>AtmosphericPressure</th>\n",
       "      <th>WindDirection</th>\n",
       "      <th>WindSpeed</th>\n",
       "      <th>Gust</th>\n",
       "      <th>WaveHeight</th>\n",
       "      <th>WavePeriod</th>\n",
       "      <th>MeanWaveDirection</th>\n",
       "      <th>Hmax</th>\n",
       "      <th>SeaTemperature</th>\n",
       "      <th>date</th>\n",
       "      <th>timestamps</th>\n",
       "    </tr>\n",
       "  </thead>\n",
       "  <tbody>\n",
       "    <tr>\n",
       "      <th>0</th>\n",
       "      <td>1953</td>\n",
       "      <td>00:00:00</td>\n",
       "      <td>M2</td>\n",
       "      <td>1020.0</td>\n",
       "      <td>330.0</td>\n",
       "      <td>2.92</td>\n",
       "      <td>3.9</td>\n",
       "      <td>0.6</td>\n",
       "      <td>4.0</td>\n",
       "      <td>NaN</td>\n",
       "      <td>NaN</td>\n",
       "      <td>8.6</td>\n",
       "      <td>2001-05-05</td>\n",
       "      <td>989020800</td>\n",
       "    </tr>\n",
       "    <tr>\n",
       "      <th>1</th>\n",
       "      <td>1955</td>\n",
       "      <td>01:00:00</td>\n",
       "      <td>M2</td>\n",
       "      <td>1020.8</td>\n",
       "      <td>330.0</td>\n",
       "      <td>4.09</td>\n",
       "      <td>5.8</td>\n",
       "      <td>0.4</td>\n",
       "      <td>4.0</td>\n",
       "      <td>NaN</td>\n",
       "      <td>NaN</td>\n",
       "      <td>8.6</td>\n",
       "      <td>2001-05-05</td>\n",
       "      <td>989024400</td>\n",
       "    </tr>\n",
       "    <tr>\n",
       "      <th>2</th>\n",
       "      <td>1957</td>\n",
       "      <td>02:00:00</td>\n",
       "      <td>M2</td>\n",
       "      <td>1020.8</td>\n",
       "      <td>350.0</td>\n",
       "      <td>4.09</td>\n",
       "      <td>5.8</td>\n",
       "      <td>0.4</td>\n",
       "      <td>4.0</td>\n",
       "      <td>NaN</td>\n",
       "      <td>NaN</td>\n",
       "      <td>8.7</td>\n",
       "      <td>2001-05-05</td>\n",
       "      <td>989028000</td>\n",
       "    </tr>\n",
       "    <tr>\n",
       "      <th>3</th>\n",
       "      <td>1959</td>\n",
       "      <td>03:00:00</td>\n",
       "      <td>M2</td>\n",
       "      <td>1021.2</td>\n",
       "      <td>350.0</td>\n",
       "      <td>1.95</td>\n",
       "      <td>5.8</td>\n",
       "      <td>0.4</td>\n",
       "      <td>4.0</td>\n",
       "      <td>NaN</td>\n",
       "      <td>NaN</td>\n",
       "      <td>8.7</td>\n",
       "      <td>2001-05-05</td>\n",
       "      <td>989031600</td>\n",
       "    </tr>\n",
       "    <tr>\n",
       "      <th>4</th>\n",
       "      <td>1961</td>\n",
       "      <td>04:00:00</td>\n",
       "      <td>M2</td>\n",
       "      <td>1021.4</td>\n",
       "      <td>30.0</td>\n",
       "      <td>2.92</td>\n",
       "      <td>5.8</td>\n",
       "      <td>0.4</td>\n",
       "      <td>4.0</td>\n",
       "      <td>NaN</td>\n",
       "      <td>NaN</td>\n",
       "      <td>8.7</td>\n",
       "      <td>2001-05-05</td>\n",
       "      <td>989035200</td>\n",
       "    </tr>\n",
       "  </tbody>\n",
       "</table>\n",
       "</div>"
      ],
      "text/plain": [
       "   Unnamed: 0      time station_id  AtmosphericPressure  WindDirection  \\\n",
       "0        1953  00:00:00         M2               1020.0          330.0   \n",
       "1        1955  01:00:00         M2               1020.8          330.0   \n",
       "2        1957  02:00:00         M2               1020.8          350.0   \n",
       "3        1959  03:00:00         M2               1021.2          350.0   \n",
       "4        1961  04:00:00         M2               1021.4           30.0   \n",
       "\n",
       "   WindSpeed  Gust  WaveHeight  WavePeriod  MeanWaveDirection  Hmax  \\\n",
       "0       2.92   3.9         0.6         4.0                NaN   NaN   \n",
       "1       4.09   5.8         0.4         4.0                NaN   NaN   \n",
       "2       4.09   5.8         0.4         4.0                NaN   NaN   \n",
       "3       1.95   5.8         0.4         4.0                NaN   NaN   \n",
       "4       2.92   5.8         0.4         4.0                NaN   NaN   \n",
       "\n",
       "   SeaTemperature        date  timestamps  \n",
       "0             8.6  2001-05-05   989020800  \n",
       "1             8.6  2001-05-05   989024400  \n",
       "2             8.7  2001-05-05   989028000  \n",
       "3             8.7  2001-05-05   989031600  \n",
       "4             8.7  2001-05-05   989035200  "
      ]
     },
     "execution_count": 2,
     "metadata": {},
     "output_type": "execute_result"
    }
   ],
   "source": [
    "# convert datetime to unix\n",
    "# df = pd.read_csv('clean_weather/valid_dates/m1_valid_dates.csv')\n",
    "# df = pd.read_csv('clean_weather/valid_data/m1_valid.csv')\n",
    "df = pd.read_csv('clean_weather/valid_dates/m2_valid_dates.csv')\n",
    "# df = pd.read_csv('clean_weather/valid_data/m2_valid.csv')\n",
    "\n",
    "start_date = min(df['time'])\n",
    "end_date = max(df['time'])\n",
    "\n",
    "df['timestamps'] = (df['date'] + ' ' +df['time'])\n",
    "df['timestamps'] = pd.to_datetime(df['timestamps'])\n",
    "df['timestamps'] = (df['timestamps'] - pd.Timestamp(\"1970-01-01\")) // pd.Timedelta('1s')  \n",
    "\n",
    "df.head()\n"
   ]
  },
  {
   "cell_type": "code",
   "execution_count": 3,
   "metadata": {},
   "outputs": [
    {
     "data": {
      "text/plain": [
       "<matplotlib.collections.PathCollection at 0x1d5055b64f0>"
      ]
     },
     "execution_count": 3,
     "metadata": {},
     "output_type": "execute_result"
    },
    {
     "data": {
      "image/png": "[encoded data removed]",
      "text/plain": [
       "<Figure size 1296x432 with 1 Axes>"
      ]
     },
     "metadata": {
      "needs_background": "light"
     },
     "output_type": "display_data"
    }
   ],
   "source": [
    "plt.figure(figsize=(18,6))\n",
    "\n",
    "plt.scatter(df['timestamps'], df['WaveHeight'])\n",
    "# plt.plot(df['timestamps'], df['WaveHeight'], color = 'red')\n"
   ]
  },
  {
   "cell_type": "markdown",
   "metadata": {},
   "source": [
    "### Need to cut data into these chunks then try to predict"
   ]
  },
  {
   "cell_type": "code",
   "execution_count": 4,
   "metadata": {},
   "outputs": [],
   "source": [
    "def chunkify(hours:int, dataframe:pd.DataFrame):\n",
    "    \"\"\"\n",
    "    Splits dataframe into time chunks\n",
    "\n",
    "    Parameters\n",
    "    ----------\n",
    "    hours : int\n",
    "\n",
    "    dataframe : pandas.Dataframe\n",
    "\n",
    "    Returns\n",
    "    ----------\n",
    "    chunk_df : pandas.Dataframe\n",
    "    \n",
    "    \"\"\"\n",
    "    num_hrs = len(df)\n",
    "    # hours = 24\n",
    "    num_chunks = int(num_hrs/hours)\n",
    "    cols = []\n",
    "\n",
    "    data = []\n",
    "    for i in range(hours):\n",
    "        cols.append(f\"wind{i+1}\")\n",
    "        cols.append(f\"wave{i+1}\")\n",
    "        cols.append(f\"atmo{i+1}\")\n",
    "\n",
    "    chunk_df =pd.DataFrame(columns=[cols])\n",
    "\n",
    "    for j in range(num_chunks):\n",
    "        # for i in range(hours):\n",
    "        #     wind.append(df['WindSpeed'][i])\n",
    "        #     wave.append(df['WaveHeight'][i])\n",
    "        #     atmo.append(df['AtmosphericPressure'][i])\n",
    "        data = []\n",
    "\n",
    "        for i in range(j*hours,j*hours+hours ):\n",
    "            data.append(dataframe['WindSpeed'][i])\n",
    "            data.append(dataframe['WaveHeight'][i])\n",
    "            data.append(dataframe['AtmosphericPressure'][i])\n",
    "        \n",
    "        chunk_df.loc[len(chunk_df)] = data\n",
    "\n",
    "    return chunk_df"
   ]
  },
  {
   "cell_type": "code",
   "execution_count": 5,
   "metadata": {},
   "outputs": [],
   "source": [
    "def select_features(start_col: int, end_col: int, y_col: int, dataframe: pd.DataFrame):\n",
    "    \"\"\"Selects the columns to be used as x and y features\n",
    "\n",
    "    Parameters\n",
    "    ----------\n",
    "    start_col : int\n",
    "        the first column of X features\n",
    "    end_col : int\n",
    "        the final column of X features\n",
    "    y_col : int\n",
    "        column of features to be predicted\n",
    "    dataframe : pd.DataFrame\n",
    "        the dataframe containing the data over time\n",
    "    \"\"\"\n",
    "    X = dataframe.iloc[:, start_col]\n",
    "    Y = dataframe.iloc[:, y_col]\n",
    "    for i in range(start_col,end_col):\n",
    "        X = np.column_stack((X,dataframe.iloc[:, i]))\n",
    "\n",
    "    return X, Y\n"
   ]
  },
  {
   "cell_type": "code",
   "execution_count": 6,
   "metadata": {},
   "outputs": [],
   "source": [
    "# two_hr = chunkify(2)\n",
    "# three_hr = chunkify(3)\n",
    "# four_hr = chunkify(4)\n",
    "# six_hr = chunkify(6)\n",
    "# eight_hr = chunkify(8)\n",
    "# twelve_hr = chunkify(12)\n",
    "\n",
    "# two_hr"
   ]
  },
  {
   "cell_type": "markdown",
   "metadata": {},
   "source": [
    "# sorting data and extracting feature sets - memory inneficient"
   ]
  },
  {
   "cell_type": "code",
   "execution_count": 7,
   "metadata": {},
   "outputs": [],
   "source": [
    "df24 = chunkify(24,df)\n",
    "# target is wave height at hour 24\n",
    "# 1 hour ahead\n",
    "X24_1, Y24_1 = select_features(start_col=0, end_col=69, y_col=70, dataframe=df24)\n",
    "# 2 hours ahead...\n",
    "X24_2, Y24_2 = select_features(start_col=0, end_col=66, y_col=70, dataframe=df24)\n",
    "X24_4, Y24_4 = select_features(start_col=0, end_col=60, y_col=70, dataframe=df24)\n",
    "X24_6, Y24_6 = select_features(start_col=0, end_col=54, y_col=70, dataframe=df24)\n",
    "X24_8, Y24_8 = select_features(start_col=0, end_col=48, y_col=70, dataframe=df24)\n",
    "X24_10, Y24_10 = select_features(start_col=0, end_col=42, y_col=70, dataframe=df24)\n",
    "X24_12, Y24_12 = select_features(start_col=0, end_col=36, y_col=70, dataframe=df24)\n"
   ]
  },
  {
   "cell_type": "code",
   "execution_count": 8,
   "metadata": {},
   "outputs": [],
   "source": [
    "df12 = chunkify(12,df)\n",
    "df12\n",
    "X12_1 , Y12_1 = select_features(start_col=0, end_col=33, y_col=34, dataframe=df12)\n",
    "X12_2 , Y12_2 = select_features(start_col=0, end_col=30, y_col=34, dataframe=df12)\n",
    "X12_4 , Y12_4 = select_features(start_col=0, end_col=24, y_col=34, dataframe=df12)\n",
    "X12_6 , Y12_6 = select_features(start_col=0, end_col=18, y_col=34, dataframe=df12)\n"
   ]
  },
  {
   "cell_type": "code",
   "execution_count": 9,
   "metadata": {},
   "outputs": [],
   "source": [
    "df6 = chunkify(6, df)\n",
    "X6_1 , Y6_1 = select_features(start_col=0, end_col=15, y_col=16, dataframe=df6)\n",
    "X6_2 , Y6_2 = select_features(start_col=0, end_col=12, y_col=16, dataframe=df6)\n",
    "X6_3 , Y6_3 = select_features(start_col=0, end_col=9, y_col=16, dataframe=df6)\n",
    "X6_4 , Y6_4 = select_features(start_col=0, end_col=6, y_col=16, dataframe=df6)"
   ]
  },
  {
   "cell_type": "code",
   "execution_count": 10,
   "metadata": {},
   "outputs": [],
   "source": [
    "df4 = chunkify(4, df)\n",
    "X4_1 , Y4_1 = select_features(start_col=0, end_col=9, y_col=10, dataframe=df4)\n",
    "X4_2 , Y4_2 = select_features(start_col=0, end_col=6, y_col=10, dataframe=df4)\n",
    "X4_3 , Y4_3 = select_features(start_col=0, end_col=3, y_col=10, dataframe=df4)\n"
   ]
  },
  {
   "cell_type": "code",
   "execution_count": 11,
   "metadata": {},
   "outputs": [],
   "source": [
    "df3 = chunkify(3, df)\n",
    "X3_1 , Y3_1 = select_features(start_col=0, end_col=7, y_col=8, dataframe=df3)\n",
    "X3_2 , Y3_2 = select_features(start_col=0, end_col=3, y_col=8, dataframe=df3)"
   ]
  },
  {
   "cell_type": "code",
   "execution_count": 12,
   "metadata": {},
   "outputs": [],
   "source": [
    "df2 = chunkify(2, df)\n",
    "X2_1 , Y2_1 = select_features(start_col=0, end_col=4, y_col=5, dataframe=df2)"
   ]
  },
  {
   "cell_type": "code",
   "execution_count": 13,
   "metadata": {},
   "outputs": [],
   "source": [
    "def kfold_ridge(alpha_range, X_features, Y_features):\n",
    "    \n",
    "    scores = [] \n",
    "    mse_train = []\n",
    "    mse_stder = []\n",
    "    std_error = []\n",
    "    for A in alpha_range:\n",
    "        model1 = Ridge(max_iter=500, alpha=A, )\n",
    "        temp = []\n",
    "        temp_mse = []\n",
    "        kf = KFold(n_splits=5)\n",
    "        for train, test in kf.split(X_features, Y_features):\n",
    "\n",
    "            model1.fit(X_features[train], Y_features[train])\n",
    "            Y_pred = model1.predict(X_features[test])  # Predict on test data\n",
    "            Y_pred_train = model1.predict(X_features[train]) # Predict for training mse\n",
    "            temp.append(model1.score(X_features[test], Y_features[test]))\n",
    "            temp_mse.append(mtr.mean_squared_error(Y_features[train], Y_pred_train))\n",
    "            \n",
    "        scores.append(np.array(temp).mean())\n",
    "        std_error.append(np.array(temp).std())\n",
    "        mse_train.append(np.array(temp_mse).mean())\n",
    "        mse_stder.append(np.array(temp_mse).std())\n",
    "\n",
    "    plt.errorbar(alpha_range, mse_train, yerr=std_error)\n",
    "    plt.xlabel('Alpha')\n",
    "    plt.ylabel('Coefficient of determination')\n",
    "    # plt.xlim(0, 2)\n",
    "    plt.show()"
   ]
  },
  {
   "cell_type": "code",
   "execution_count": 14,
   "metadata": {},
   "outputs": [],
   "source": [
    "# alpha_range = np.linspace(0.00001, 1, num = 50)\n",
    "# kfold_ridge(alpha_range, X24_1, Y24_1)\n",
    "# kfold_ridge(alpha_range, X12_1, Y12_1)\n",
    "# kfold_ridge(alpha_range, X6_1, Y6_1)\n",
    "# kfold_ridge(alpha_range, X4_1, Y4_1)\n",
    "# kfold_ridge(alpha_range, X3_1, Y3_1)\n",
    "# kfold_ridge(alpha_range, X2_1, Y2_1)\n"
   ]
  },
  {
   "cell_type": "markdown",
   "metadata": {},
   "source": [
    "## Alpha Value does not seem to matter for this problem\n",
    "#### let's just stick with 0.1"
   ]
  },
  {
   "cell_type": "code",
   "execution_count": 17,
   "metadata": {},
   "outputs": [],
   "source": [
    "# Ugly messy - left everything late so I'm just frankensteining this together. will fix at some point\n",
    "# 1 hour ahead\n",
    "X24_1_train, X24_1_test, Y24_1_train, Y24_1_test = train_test_split(X24_1, Y24_1, test_size=0.33, random_state=42)\n",
    "mod24_1 = ml.train_ridge(input_features=X24_1_train, target_feature=Y24_1_train, c_value= 0.1)\n",
    "\n",
    "preds24_1 = mod24_1.predict(X24_1_test)\n",
    "preds24_1_train = mod24_1.predict(X24_1_train)\n",
    "mse24_1 = mtr.calculate_mse(pred = preds24_1, true = Y24_1_test)\n",
    "mse24_1_train = mtr.calculate_mse(pred = preds24_1_train, true = Y24_1_train)\n",
    "\n",
    "# 2 hours ahead\n",
    "X24_2_train, X24_2_test, Y24_2_train, Y24_2_test = train_test_split(X24_2, Y24_2, test_size=0.33, random_state=42)\n",
    "mod24_2 = ml.train_ridge(input_features=X24_2_train, target_feature=Y24_2_train, c_value= 0.1)\n",
    "\n",
    "preds24_2 = mod24_2.predict(X24_2_test)\n",
    "preds24_2_train = mod24_2.predict(X24_2_train)\n",
    "mse24_2 = mtr.calculate_mse(pred = preds24_2, true = Y24_2_test)\n",
    "mse24_2_train = mtr.calculate_mse(pred = preds24_2_train, true = Y24_2_train)\n",
    "\n",
    "# 4 hours ahead\n",
    "X24_4_train, X24_4_test, Y24_4_train, Y24_4_test = train_test_split(X24_4, Y24_4, test_size=0.33, random_state=42)\n",
    "mod24_4 = ml.train_ridge(input_features=X24_4_train, target_feature=Y24_4_train, c_value= 0.1)\n",
    "\n",
    "preds24_4 = mod24_4.predict(X24_4_test)\n",
    "preds24_4_train = mod24_4.predict(X24_4_train)\n",
    "mse24_4 = mtr.calculate_mse(pred = preds24_4, true = Y24_4_test)\n",
    "mse24_4_train = mtr.calculate_mse(pred = preds24_4_train, true = Y24_4_train)\n",
    "\n",
    "# 6 hours ahead\n",
    "X24_6_train, X24_6_test, Y24_6_train, Y24_6_test = train_test_split(X24_6, Y24_6, test_size=0.33, random_state=42)\n",
    "mod24_6 = ml.train_ridge(input_features=X24_6_train, target_feature=Y24_6_train, c_value= 0.1)\n",
    "\n",
    "preds24_6 = mod24_6.predict(X24_6_test)\n",
    "preds24_6_train = mod24_6.predict(X24_6_train)\n",
    "mse24_6 = mtr.calculate_mse(pred = preds24_6, true = Y24_6_test)\n",
    "mse24_6_train = mtr.calculate_mse(pred = preds24_6_train, true = Y24_6_train)\n",
    "\n",
    "# 8 hours ahead\n",
    "X24_8_train, X24_8_test, Y24_8_train, Y24_8_test = train_test_split(X24_8, Y24_1, test_size=0.33, random_state=42)\n",
    "mod24_8 = ml.train_ridge(input_features=X24_8_train, target_feature=Y24_8_train, c_value= 0.1)\n",
    "\n",
    "preds24_8 = mod24_8.predict(X24_8_test)\n",
    "preds24_8_train = mod24_8.predict(X24_8_train)\n",
    "mse24_8 = mtr.calculate_mse(pred = preds24_8, true = Y24_8_test)\n",
    "mse24_8_train = mtr.calculate_mse(pred = preds24_8_train, true = Y24_8_train)\n",
    "\n",
    "# 10 hours ahead\n",
    "X24_10_train, X24_10_test, Y24_10_train, Y24_10_test = train_test_split(X24_10, Y24_10, test_size=0.33, random_state=42)\n",
    "mod24_10 = ml.train_ridge(input_features=X24_10_train, target_feature=Y24_10_train, c_value= 0.1)\n",
    "\n",
    "preds24_10 = mod24_10.predict(X24_10_test)\n",
    "preds24_10_train = mod24_10.predict(X24_10_train)\n",
    "mse24_10 = mtr.calculate_mse(pred = preds24_10, true = Y24_10_test)\n",
    "mse24_10_train = mtr.calculate_mse(pred = preds24_10_train, true = Y24_10_train)\n",
    "\n",
    "# 12 hours ahead\n",
    "X24_12_train, X24_12_test, Y24_12_train, Y24_12_test = train_test_split(X24_12, Y24_12, test_size=0.33, random_state=42)\n",
    "mod24_12 = ml.train_ridge(input_features=X24_12_train, target_feature=Y24_12_train, c_value= 0.1)\n",
    "\n",
    "preds24_12 = mod24_12.predict(X24_12_test)\n",
    "preds24_12_train = mod24_12.predict(X24_12_train)\n",
    "mse24_12 = mtr.calculate_mse(pred = preds24_12, true = Y24_12_test)\n",
    "mse24_12_train = mtr.calculate_mse(pred = preds24_12_train, true = Y24_12_train)"
   ]
  },
  {
   "cell_type": "code",
   "execution_count": 23,
   "metadata": {},
   "outputs": [
    {
     "data": {
      "text/plain": [
       "<matplotlib.legend.Legend at 0x1d504f9db80>"
      ]
     },
     "execution_count": 23,
     "metadata": {},
     "output_type": "execute_result"
    },
    {
     "data": {
      "image/png": "[encoded data removed]",
      "text/plain": [
       "<Figure size 432x288 with 1 Axes>"
      ]
     },
     "metadata": {
      "needs_background": "light"
     },
     "output_type": "display_data"
    }
   ],
   "source": [
    "hrs_ahead = [1,2,4,6,8,10,12]\n",
    "val_mse = [mse24_1, mse24_2, mse24_4, mse24_6, mse24_8, mse24_10, mse24_12]\n",
    "training_mse = [mse24_1_train, mse24_2_train, mse24_4_train, mse24_6_train, mse24_8_train, mse24_10_train, mse24_12_train]\n",
    "plt.figure('24hr mse')\n",
    "plt.plot(hrs_ahead, val_mse, label='Validation')\n",
    "plt.plot(hrs_ahead, training_mse, label='Training')\n",
    "plt.xlabel('Hours Ahead')\n",
    "plt.ylabel('Mean-Squared Error')\n",
    "plt.title('Predicting future wave height in 24-hour blocks')\n",
    "plt.legend()\n"
   ]
  },
  {
   "cell_type": "code",
   "execution_count": 25,
   "metadata": {},
   "outputs": [],
   "source": [
    "# Ugly messy\n",
    "X12_1_train, X12_1_test, Y12_1_train, Y12_1_test = train_test_split(X12_1, Y12_1, test_size=0.33, random_state=42)\n",
    "mod12_1 = ml.train_ridge(input_features=X12_1_train, target_feature=Y12_1_train, c_value= 0.1)\n",
    "\n",
    "preds12_1 = mod12_1.predict(X12_1_test)\n",
    "preds12_1_train = mod12_1.predict(X12_1_train)\n",
    "mse12_1 = mtr.calculate_mse(pred = preds12_1, true = Y12_1_test)\n",
    "mse12_1_train = mtr.calculate_mse(pred = preds12_1_train, true = Y12_1_train)\n",
    "\n",
    "\n",
    "X12_2_train, X12_2_test, Y12_2_train, Y12_2_test = train_test_split(X12_2, Y12_2, test_size=0.33, random_state=42)\n",
    "mod12_2 = ml.train_ridge(input_features=X12_2_train, target_feature=Y12_2_train, c_value= 0.1)\n",
    "\n",
    "preds12_2 = mod12_2.predict(X12_2_test)\n",
    "preds12_2_train = mod12_2.predict(X12_2_train)\n",
    "mse12_2 = mtr.calculate_mse(pred = preds12_2, true = Y12_2_test)\n",
    "mse12_2_train = mtr.calculate_mse(pred = preds12_2_train, true = Y12_2_train)\n",
    "\n",
    "X12_4_train, X12_4_test, Y12_4_train, Y12_4_test = train_test_split(X12_4, Y12_4, test_size=0.33, random_state=42)\n",
    "mod12_4 = ml.train_ridge(input_features=X12_4_train, target_feature=Y12_4_train, c_value= 0.1)\n",
    "\n",
    "preds12_4 = mod12_4.predict(X12_4_test)\n",
    "preds12_4_train = mod12_4.predict(X12_4_train)\n",
    "mse12_4 = mtr.calculate_mse(pred = preds12_4, true = Y12_4_test)\n",
    "mse12_4_train = mtr.calculate_mse(pred = preds12_4_train, true = Y12_4_train)\n",
    "\n",
    "\n",
    "X12_6_train, X12_6_test, Y12_6_train, Y12_6_test = train_test_split(X12_6, Y12_6, test_size=0.33, random_state=42)\n",
    "mod12_6 = ml.train_ridge(input_features=X12_6_train, target_feature=Y12_6_train, c_value= 0.1)\n",
    "\n",
    "preds12_6 = mod12_6.predict(X12_6_test)\n",
    "preds12_6_train = mod12_6.predict(X12_6_train)\n",
    "mse12_6 = mtr.calculate_mse(pred = preds12_6, true = Y12_6_test)\n",
    "mse12_6_train = mtr.calculate_mse(pred = preds12_6_train, true = Y12_6_train)"
   ]
  },
  {
   "cell_type": "code",
   "execution_count": 26,
   "metadata": {},
   "outputs": [
    {
     "data": {
      "text/plain": [
       "<matplotlib.legend.Legend at 0x1d50a3b09a0>"
      ]
     },
     "execution_count": 26,
     "metadata": {},
     "output_type": "execute_result"
    },
    {
     "data": {
      "image/png": "[encoded data removed]",
      "text/plain": [
       "<Figure size 432x288 with 1 Axes>"
      ]
     },
     "metadata": {
      "needs_background": "light"
     },
     "output_type": "display_data"
    }
   ],
   "source": [
    "hrs_ahead = [1,2,4,6]\n",
    "val_mse = [mse12_1, mse12_2, mse12_4, mse12_6]\n",
    "training_mse = [mse12_1_train, mse12_2_train, mse12_4_train, mse12_6_train]\n",
    "plt.figure('12hr mse')\n",
    "plt.plot(hrs_ahead, val_mse, label='Validation')\n",
    "plt.plot(hrs_ahead, training_mse, label='Training')\n",
    "plt.xlabel('Hours Ahead')\n",
    "plt.ylabel('Mean-Squared Error')\n",
    "plt.title('Predicting future wave height in 12-hour blocks')\n",
    "plt.legend()\n"
   ]
  },
  {
   "cell_type": "code",
   "execution_count": 28,
   "metadata": {},
   "outputs": [],
   "source": [
    "# Ugly messy\n",
    "X6_1_train, X6_1_test, Y6_1_train, Y6_1_test = train_test_split(X6_1, Y6_1, test_size=0.33, random_state=42)\n",
    "mod6_1 = ml.train_ridge(input_features=X6_1_train, target_feature=Y6_1_train, c_value= 0.1)\n",
    "\n",
    "preds6_1 = mod6_1.predict(X6_1_test)\n",
    "preds6_1_train = mod6_1.predict(X6_1_train)\n",
    "mse6_1 = mtr.calculate_mse(pred = preds6_1, true = Y6_1_test)\n",
    "mse6_1_train = mtr.calculate_mse(pred = preds6_1_train, true = Y6_1_train)\n",
    "\n",
    "\n",
    "X6_2_train, X6_2_test, Y6_2_train, Y6_2_test = train_test_split(X6_2, Y6_2, test_size=0.33, random_state=42)\n",
    "mod6_2 = ml.train_ridge(input_features=X6_2_train, target_feature=Y6_2_train, c_value= 0.1)\n",
    "\n",
    "preds6_2 = mod6_2.predict(X6_2_test)\n",
    "preds6_2_train = mod6_2.predict(X6_2_train)\n",
    "mse6_2 = mtr.calculate_mse(pred = preds6_2, true = Y6_2_test)\n",
    "mse6_2_train = mtr.calculate_mse(pred = preds6_2_train, true = Y6_2_train)\n",
    "\n",
    "X6_3_train, X6_3_test, Y6_3_train, Y6_3_test = train_test_split(X6_3, Y6_3, test_size=0.33, random_state=42)\n",
    "mod6_3 = ml.train_ridge(input_features=X6_3_train, target_feature=Y6_3_train, c_value= 0.1)\n",
    "\n",
    "preds6_3 = mod6_3.predict(X6_3_test)\n",
    "preds6_3_train = mod6_3.predict(X6_3_train)\n",
    "mse6_3 = mtr.calculate_mse(pred = preds6_3, true = Y6_3_test)\n",
    "mse6_3_train = mtr.calculate_mse(pred = preds6_3_train, true = Y6_3_train)\n",
    "\n",
    "X6_4_train, X6_4_test, Y6_4_train, Y6_4_test = train_test_split(X6_4, Y6_4, test_size=0.33, random_state=42)\n",
    "mod6_4 = ml.train_ridge(input_features=X6_4_train, target_feature=Y6_4_train, c_value= 0.1)\n",
    "\n",
    "preds6_4 = mod6_4.predict(X6_4_test)\n",
    "preds6_4_train = mod6_4.predict(X6_4_train)\n",
    "mse6_4 = mtr.calculate_mse(pred = preds6_4, true = Y6_4_test)\n",
    "mse6_4_train = mtr.calculate_mse(pred = preds6_4_train, true = Y6_4_train)"
   ]
  },
  {
   "cell_type": "code",
   "execution_count": 29,
   "metadata": {},
   "outputs": [
    {
     "data": {
      "text/plain": [
       "<matplotlib.legend.Legend at 0x1d50a401a90>"
      ]
     },
     "execution_count": 29,
     "metadata": {},
     "output_type": "execute_result"
    },
    {
     "data": {
      "image/png": "[encoded data removed]",
      "text/plain": [
       "<Figure size 432x288 with 1 Axes>"
      ]
     },
     "metadata": {
      "needs_background": "light"
     },
     "output_type": "display_data"
    }
   ],
   "source": [
    "hrs_ahead = [1,2,3,4]\n",
    "val_mse = [mse6_1, mse6_2, mse6_3, mse6_4]\n",
    "training_mse = [mse6_1_train, mse6_2_train, mse6_3_train, mse6_4_train]\n",
    "plt.figure('6hr mse')\n",
    "plt.plot(hrs_ahead, val_mse, label='Validation')\n",
    "plt.plot(hrs_ahead, training_mse, label='Training')\n",
    "plt.xlabel('Hours Ahead')\n",
    "plt.ylabel('Mean-Squared Error')\n",
    "plt.title('Predicting future wave height in 6-hour blocks')\n",
    "plt.legend()\n"
   ]
  },
  {
   "cell_type": "code",
   "execution_count": 30,
   "metadata": {},
   "outputs": [],
   "source": [
    "# Ugly messy\n",
    "X3_1_train, X3_1_test, Y3_1_train, Y3_1_test = train_test_split(X3_1, Y3_1, test_size=0.33, random_state=42)\n",
    "mod3_1 = ml.train_ridge(input_features=X3_1_train, target_feature=Y3_1_train, c_value= 0.1)\n",
    "\n",
    "preds3_1 = mod3_1.predict(X3_1_test)\n",
    "preds3_1_train = mod3_1.predict(X3_1_train)\n",
    "mse3_1 = mtr.calculate_mse(pred = preds3_1, true = Y3_1_test)\n",
    "mse3_1_train = mtr.calculate_mse(pred = preds3_1_train, true = Y3_1_train)\n",
    "\n",
    "\n",
    "X3_2_train, X3_2_test, Y3_2_train, Y3_2_test = train_test_split(X3_2, Y3_2, test_size=0.33, random_state=42)\n",
    "mod3_2 = ml.train_ridge(input_features=X3_2_train, target_feature=Y3_2_train, c_value= 0.1)\n",
    "\n",
    "preds3_2 = mod3_2.predict(X3_2_test)\n",
    "preds3_2_train = mod3_2.predict(X3_2_train)\n",
    "mse3_2 = mtr.calculate_mse(pred = preds3_2, true = Y3_2_test)\n",
    "mse3_2_train = mtr.calculate_mse(pred = preds3_2_train, true = Y3_2_train)"
   ]
  },
  {
   "cell_type": "code",
   "execution_count": 31,
   "metadata": {},
   "outputs": [
    {
     "data": {
      "text/plain": [
       "<matplotlib.legend.Legend at 0x1d50b48f9d0>"
      ]
     },
     "execution_count": 31,
     "metadata": {},
     "output_type": "execute_result"
    },
    {
     "data": {
      "image/png": "[encoded data removed]",
      "text/plain": [
       "<Figure size 432x288 with 1 Axes>"
      ]
     },
     "metadata": {
      "needs_background": "light"
     },
     "output_type": "display_data"
    }
   ],
   "source": [
    "hrs_ahead = [1,2]\n",
    "val_mse = [mse3_1, mse3_2]\n",
    "training_mse = [mse3_1_train, mse3_2_train]\n",
    "plt.figure('3hr mse')\n",
    "plt.plot(hrs_ahead, val_mse, label='Validation')\n",
    "plt.plot(hrs_ahead, training_mse, label='Training')\n",
    "plt.xlabel('Hours Ahead')\n",
    "plt.ylabel('Mean-Squared Error')\n",
    "plt.title('Predicting future wave height in 3-hour blocks')\n",
    "plt.legend()"
   ]
  },
  {
   "cell_type": "code",
   "execution_count": null,
   "metadata": {},
   "outputs": [],
   "source": [
    "# Ugly messy\n",
    "X2_1_train, X2_1_test, Y2_1_train, Y2_1_test = train_test_split(X2_1, Y2_1, test_size=0.33, random_state=42)\n",
    "mod2_1 = ml.train_ridge(input_features=X2_1_train, target_feature=Y2_1_train, c_value= 0.1)\n",
    "\n",
    "preds2_1 = mod2_1.predict(X2_1_test)\n",
    "preds2_1_train = mod2_1.predict(X2_1_train)\n",
    "mse2_1 = mtr.calculate_mse(pred = preds2_1, true = Y2_1_test)\n",
    "mse2_1_train = mtr.calculate_mse(pred = preds2_1_train, true = Y2_1_train)"
   ]
  },
  {
   "cell_type": "code",
   "execution_count": null,
   "metadata": {},
   "outputs": [],
   "source": []
  }
 ],
 "metadata": {
  "interpreter": {
   "hash": "c4f3a0e336a38bae68654725b3a3f1cf72721c49ae4cdf2f579a678d5e71f98f"
  },
  "kernelspec": {
   "display_name": "Python 3.8.8 64-bit ('fyp': conda)",
   "language": "python",
   "name": "python3"
  },
  "language_info": {
   "codemirror_mode": {
    "name": "ipython",
    "version": 3
   },
   "file_extension": ".py",
   "mimetype": "text/x-python",
   "name": "python",
   "nbconvert_exporter": "python",
   "pygments_lexer": "ipython3",
   "version": "3.8.5"
  },
  "orig_nbformat": 4
 },
 "nbformat": 4,
 "nbformat_minor": 2
}
