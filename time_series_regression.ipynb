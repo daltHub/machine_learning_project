{
 "cells": [
  {
   "cell_type": "markdown",
   "metadata": {},
   "source": [
    "# Using Time Series to more accurately predict wave heights"
   ]
  },
  {
   "cell_type": "code",
   "execution_count": 2,
   "metadata": {},
   "outputs": [],
   "source": [
    "import utilities.misc as misc\n",
    "import utilities.metrics as mtr\n",
    "import utilities.ml_functions as ml\n",
    "import pandas as pd"
   ]
  },
  {
   "cell_type": "code",
   "execution_count": 12,
   "metadata": {},
   "outputs": [
    {
     "data": {
      "text/html": [
       "<div>\n",
       "<style scoped>\n",
       "    .dataframe tbody tr th:only-of-type {\n",
       "        vertical-align: middle;\n",
       "    }\n",
       "\n",
       "    .dataframe tbody tr th {\n",
       "        vertical-align: top;\n",
       "    }\n",
       "\n",
       "    .dataframe thead th {\n",
       "        text-align: right;\n",
       "    }\n",
       "</style>\n",
       "<table border=\"1\" class=\"dataframe\">\n",
       "  <thead>\n",
       "    <tr style=\"text-align: right;\">\n",
       "      <th></th>\n",
       "      <th>Unnamed: 0</th>\n",
       "      <th>time</th>\n",
       "      <th>station_id</th>\n",
       "      <th>AtmosphericPressure</th>\n",
       "      <th>WindDirection</th>\n",
       "      <th>WindSpeed</th>\n",
       "      <th>Gust</th>\n",
       "      <th>WaveHeight</th>\n",
       "      <th>WavePeriod</th>\n",
       "      <th>MeanWaveDirection</th>\n",
       "      <th>Hmax</th>\n",
       "      <th>SeaTemperature</th>\n",
       "      <th>date</th>\n",
       "      <th>timestamps</th>\n",
       "    </tr>\n",
       "  </thead>\n",
       "  <tbody>\n",
       "    <tr>\n",
       "      <th>0</th>\n",
       "      <td>1953</td>\n",
       "      <td>2021-11-29 00:00:00</td>\n",
       "      <td>M2</td>\n",
       "      <td>1020.0</td>\n",
       "      <td>330.0</td>\n",
       "      <td>2.92</td>\n",
       "      <td>3.9</td>\n",
       "      <td>0.6</td>\n",
       "      <td>4.0</td>\n",
       "      <td>NaN</td>\n",
       "      <td>NaN</td>\n",
       "      <td>8.6</td>\n",
       "      <td>2001-05-05</td>\n",
       "      <td>1638144000</td>\n",
       "    </tr>\n",
       "    <tr>\n",
       "      <th>1</th>\n",
       "      <td>1955</td>\n",
       "      <td>2021-11-29 01:00:00</td>\n",
       "      <td>M2</td>\n",
       "      <td>1020.8</td>\n",
       "      <td>330.0</td>\n",
       "      <td>4.09</td>\n",
       "      <td>5.8</td>\n",
       "      <td>0.4</td>\n",
       "      <td>4.0</td>\n",
       "      <td>NaN</td>\n",
       "      <td>NaN</td>\n",
       "      <td>8.6</td>\n",
       "      <td>2001-05-05</td>\n",
       "      <td>1638147600</td>\n",
       "    </tr>\n",
       "    <tr>\n",
       "      <th>2</th>\n",
       "      <td>1957</td>\n",
       "      <td>2021-11-29 02:00:00</td>\n",
       "      <td>M2</td>\n",
       "      <td>1020.8</td>\n",
       "      <td>350.0</td>\n",
       "      <td>4.09</td>\n",
       "      <td>5.8</td>\n",
       "      <td>0.4</td>\n",
       "      <td>4.0</td>\n",
       "      <td>NaN</td>\n",
       "      <td>NaN</td>\n",
       "      <td>8.7</td>\n",
       "      <td>2001-05-05</td>\n",
       "      <td>1638151200</td>\n",
       "    </tr>\n",
       "    <tr>\n",
       "      <th>3</th>\n",
       "      <td>1959</td>\n",
       "      <td>2021-11-29 03:00:00</td>\n",
       "      <td>M2</td>\n",
       "      <td>1021.2</td>\n",
       "      <td>350.0</td>\n",
       "      <td>1.95</td>\n",
       "      <td>5.8</td>\n",
       "      <td>0.4</td>\n",
       "      <td>4.0</td>\n",
       "      <td>NaN</td>\n",
       "      <td>NaN</td>\n",
       "      <td>8.7</td>\n",
       "      <td>2001-05-05</td>\n",
       "      <td>1638154800</td>\n",
       "    </tr>\n",
       "    <tr>\n",
       "      <th>4</th>\n",
       "      <td>1961</td>\n",
       "      <td>2021-11-29 04:00:00</td>\n",
       "      <td>M2</td>\n",
       "      <td>1021.4</td>\n",
       "      <td>30.0</td>\n",
       "      <td>2.92</td>\n",
       "      <td>5.8</td>\n",
       "      <td>0.4</td>\n",
       "      <td>4.0</td>\n",
       "      <td>NaN</td>\n",
       "      <td>NaN</td>\n",
       "      <td>8.7</td>\n",
       "      <td>2001-05-05</td>\n",
       "      <td>1638158400</td>\n",
       "    </tr>\n",
       "  </tbody>\n",
       "</table>\n",
       "</div>"
      ],
      "text/plain": [
       "   Unnamed: 0                time station_id  AtmosphericPressure  \\\n",
       "0        1953 2021-11-29 00:00:00         M2               1020.0   \n",
       "1        1955 2021-11-29 01:00:00         M2               1020.8   \n",
       "2        1957 2021-11-29 02:00:00         M2               1020.8   \n",
       "3        1959 2021-11-29 03:00:00         M2               1021.2   \n",
       "4        1961 2021-11-29 04:00:00         M2               1021.4   \n",
       "\n",
       "   WindDirection  WindSpeed  Gust  WaveHeight  WavePeriod  MeanWaveDirection  \\\n",
       "0          330.0       2.92   3.9         0.6         4.0                NaN   \n",
       "1          330.0       4.09   5.8         0.4         4.0                NaN   \n",
       "2          350.0       4.09   5.8         0.4         4.0                NaN   \n",
       "3          350.0       1.95   5.8         0.4         4.0                NaN   \n",
       "4           30.0       2.92   5.8         0.4         4.0                NaN   \n",
       "\n",
       "   Hmax  SeaTemperature       date  timestamps  \n",
       "0   NaN             8.6 2001-05-05  1638144000  \n",
       "1   NaN             8.6 2001-05-05  1638147600  \n",
       "2   NaN             8.7 2001-05-05  1638151200  \n",
       "3   NaN             8.7 2001-05-05  1638154800  \n",
       "4   NaN             8.7 2001-05-05  1638158400  "
      ]
     },
     "execution_count": 12,
     "metadata": {},
     "output_type": "execute_result"
    }
   ],
   "source": [
    "# convert datetime to unix\n",
    "df = pd.read_csv('clean_weather/valid_dates/m2_valid_dates.csv', parse_dates=['date', 'time'])\n",
    "start_date = min(df['time'])\n",
    "end_date = max(df['time'])\n",
    "\n",
    "df['timestamps'] = pd.to_datetime(df['time'])\n",
    "df['timestamps'] = (df['timestamps'] - pd.Timestamp(\"1970-01-01\")) // pd.Timedelta('1s')  \n",
    "\n",
    "df.head()\n"
   ]
  },
  {
   "cell_type": "code",
   "execution_count": 5,
   "metadata": {},
   "outputs": [
    {
     "data": {
      "text/plain": [
       "Int64Index([1547559000], dtype='int64')"
      ]
     },
     "execution_count": 5,
     "metadata": {},
     "output_type": "execute_result"
    }
   ],
   "source": [
    "dates = pd.to_datetime(['2019-01-15 13:30:00'])\n",
    "(dates - pd.Timestamp(\"1970-01-01\")) // pd.Timedelta('1s')  \n",
    "# Int64Index([1547559000], dtype='int64')"
   ]
  },
  {
   "cell_type": "code",
   "execution_count": null,
   "metadata": {},
   "outputs": [],
   "source": [
    "# plot data in time \n"
   ]
  },
  {
   "cell_type": "code",
   "execution_count": null,
   "metadata": {},
   "outputs": [],
   "source": [
    "# predict using daily seasonality"
   ]
  }
 ],
 "metadata": {
  "interpreter": {
   "hash": "c4f3a0e336a38bae68654725b3a3f1cf72721c49ae4cdf2f579a678d5e71f98f"
  },
  "kernelspec": {
   "display_name": "Python 3.8.8 64-bit ('fyp': conda)",
   "language": "python",
   "name": "python3"
  },
  "language_info": {
   "codemirror_mode": {
    "name": "ipython",
    "version": 3
   },
   "file_extension": ".py",
   "mimetype": "text/x-python",
   "name": "python",
   "nbconvert_exporter": "python",
   "pygments_lexer": "ipython3",
   "version": "3.8.8"
  },
  "orig_nbformat": 4
 },
 "nbformat": 4,
 "nbformat_minor": 2
}
