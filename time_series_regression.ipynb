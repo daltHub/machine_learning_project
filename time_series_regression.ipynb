{
 "cells": [
  {
   "cell_type": "markdown",
   "metadata": {},
   "source": [
    "# Using Time Series to more accurately predict wave heights"
   ]
  },
  {
   "cell_type": "code",
   "execution_count": 2,
   "metadata": {},
   "outputs": [],
   "source": [
    "import utilities.misc as misc\n",
    "import utilities.metrics as mtr\n",
    "import utilities.ml_functions as ml\n",
    "import pandas as pd"
   ]
  },
  {
   "cell_type": "code",
   "execution_count": 6,
   "metadata": {},
   "outputs": [],
   "source": [
    "# convert datetime to unix\n",
    "df = pd.read_csv('clean_weather/valid_dates/m1_valid_dates.csv', parse_dates=['date', 'time'])\n",
    "start_date = min(df['time'])\n",
    "start_date"
   ]
  },
  {
   "cell_type": "code",
   "execution_count": null,
   "metadata": {},
   "outputs": [],
   "source": [
    "# plot data in time "
   ]
  },
  {
   "cell_type": "code",
   "execution_count": null,
   "metadata": {},
   "outputs": [],
   "source": [
    "# predict using daily seasonality"
   ]
  }
 ],
 "metadata": {
  "interpreter": {
   "hash": "c4f3a0e336a38bae68654725b3a3f1cf72721c49ae4cdf2f579a678d5e71f98f"
  },
  "kernelspec": {
   "display_name": "Python 3.8.8 64-bit ('fyp': conda)",
   "language": "python",
   "name": "python3"
  },
  "language_info": {
   "codemirror_mode": {
    "name": "ipython",
    "version": 3
   },
   "file_extension": ".py",
   "mimetype": "text/x-python",
   "name": "python",
   "nbconvert_exporter": "python",
   "pygments_lexer": "ipython3",
   "version": "3.8.8"
  },
  "orig_nbformat": 4
 },
 "nbformat": 4,
 "nbformat_minor": 2
}
