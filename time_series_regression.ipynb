{
 "cells": [
  {
   "cell_type": "markdown",
   "metadata": {},
   "source": [
    "# Using Time Series to more accurately predict wave heights"
   ]
  },
  {
   "cell_type": "code",
   "execution_count": 2,
   "metadata": {},
   "outputs": [],
   "source": [
    "import utilities.misc as misc\n",
    "import utilities.metrics as mtr\n",
    "import utilities.ml_functions as ml\n",
    "import pandas as pd"
   ]
  },
  {
   "cell_type": "code",
   "execution_count": 9,
   "metadata": {},
   "outputs": [
    {
     "data": {
      "text/html": [
       "<div>\n",
       "<style scoped>\n",
       "    .dataframe tbody tr th:only-of-type {\n",
       "        vertical-align: middle;\n",
       "    }\n",
       "\n",
       "    .dataframe tbody tr th {\n",
       "        vertical-align: top;\n",
       "    }\n",
       "\n",
       "    .dataframe thead th {\n",
       "        text-align: right;\n",
       "    }\n",
       "</style>\n",
       "<table border=\"1\" class=\"dataframe\">\n",
       "  <thead>\n",
       "    <tr style=\"text-align: right;\">\n",
       "      <th></th>\n",
       "      <th>Unnamed: 0</th>\n",
       "      <th>time</th>\n",
       "      <th>station_id</th>\n",
       "      <th>AtmosphericPressure</th>\n",
       "      <th>WindDirection</th>\n",
       "      <th>WindSpeed</th>\n",
       "      <th>Gust</th>\n",
       "      <th>WaveHeight</th>\n",
       "      <th>WavePeriod</th>\n",
       "      <th>MeanWaveDirection</th>\n",
       "      <th>Hmax</th>\n",
       "      <th>SeaTemperature</th>\n",
       "      <th>date</th>\n",
       "      <th>timestamps</th>\n",
       "    </tr>\n",
       "  </thead>\n",
       "  <tbody>\n",
       "    <tr>\n",
       "      <th>0</th>\n",
       "      <td>598</td>\n",
       "      <td>2021-11-29 00:00:00</td>\n",
       "      <td>M1</td>\n",
       "      <td>983.4</td>\n",
       "      <td>180.0</td>\n",
       "      <td>28.99</td>\n",
       "      <td>40.9</td>\n",
       "      <td>4.4</td>\n",
       "      <td>9.0</td>\n",
       "      <td>NaN</td>\n",
       "      <td>NaN</td>\n",
       "      <td>9.1</td>\n",
       "      <td>2001-03-08</td>\n",
       "      <td>1638144000</td>\n",
       "    </tr>\n",
       "    <tr>\n",
       "      <th>1</th>\n",
       "      <td>599</td>\n",
       "      <td>2021-11-29 01:00:00</td>\n",
       "      <td>M1</td>\n",
       "      <td>983.0</td>\n",
       "      <td>180.0</td>\n",
       "      <td>28.02</td>\n",
       "      <td>38.9</td>\n",
       "      <td>4.4</td>\n",
       "      <td>8.0</td>\n",
       "      <td>NaN</td>\n",
       "      <td>NaN</td>\n",
       "      <td>9.2</td>\n",
       "      <td>2001-03-08</td>\n",
       "      <td>1638147600</td>\n",
       "    </tr>\n",
       "    <tr>\n",
       "      <th>2</th>\n",
       "      <td>600</td>\n",
       "      <td>2021-11-29 02:00:00</td>\n",
       "      <td>M1</td>\n",
       "      <td>982.8</td>\n",
       "      <td>180.0</td>\n",
       "      <td>26.07</td>\n",
       "      <td>38.9</td>\n",
       "      <td>4.6</td>\n",
       "      <td>10.0</td>\n",
       "      <td>NaN</td>\n",
       "      <td>NaN</td>\n",
       "      <td>9.2</td>\n",
       "      <td>2001-03-08</td>\n",
       "      <td>1638151200</td>\n",
       "    </tr>\n",
       "    <tr>\n",
       "      <th>3</th>\n",
       "      <td>601</td>\n",
       "      <td>2021-11-29 03:00:00</td>\n",
       "      <td>M1</td>\n",
       "      <td>982.2</td>\n",
       "      <td>180.0</td>\n",
       "      <td>27.04</td>\n",
       "      <td>37.0</td>\n",
       "      <td>4.1</td>\n",
       "      <td>8.0</td>\n",
       "      <td>NaN</td>\n",
       "      <td>NaN</td>\n",
       "      <td>9.3</td>\n",
       "      <td>2001-03-08</td>\n",
       "      <td>1638154800</td>\n",
       "    </tr>\n",
       "    <tr>\n",
       "      <th>4</th>\n",
       "      <td>602</td>\n",
       "      <td>2021-11-29 04:00:00</td>\n",
       "      <td>M1</td>\n",
       "      <td>980.8</td>\n",
       "      <td>170.0</td>\n",
       "      <td>27.04</td>\n",
       "      <td>37.0</td>\n",
       "      <td>4.8</td>\n",
       "      <td>NaN</td>\n",
       "      <td>NaN</td>\n",
       "      <td>NaN</td>\n",
       "      <td>9.3</td>\n",
       "      <td>2001-03-08</td>\n",
       "      <td>1638158400</td>\n",
       "    </tr>\n",
       "  </tbody>\n",
       "</table>\n",
       "</div>"
      ],
      "text/plain": [
       "   Unnamed: 0                time station_id  AtmosphericPressure  \\\n",
       "0         598 2021-11-29 00:00:00         M1                983.4   \n",
       "1         599 2021-11-29 01:00:00         M1                983.0   \n",
       "2         600 2021-11-29 02:00:00         M1                982.8   \n",
       "3         601 2021-11-29 03:00:00         M1                982.2   \n",
       "4         602 2021-11-29 04:00:00         M1                980.8   \n",
       "\n",
       "   WindDirection  WindSpeed  Gust  WaveHeight  WavePeriod  MeanWaveDirection  \\\n",
       "0          180.0      28.99  40.9         4.4         9.0                NaN   \n",
       "1          180.0      28.02  38.9         4.4         8.0                NaN   \n",
       "2          180.0      26.07  38.9         4.6        10.0                NaN   \n",
       "3          180.0      27.04  37.0         4.1         8.0                NaN   \n",
       "4          170.0      27.04  37.0         4.8         NaN                NaN   \n",
       "\n",
       "   Hmax  SeaTemperature       date  timestamps  \n",
       "0   NaN             9.1 2001-03-08  1638144000  \n",
       "1   NaN             9.2 2001-03-08  1638147600  \n",
       "2   NaN             9.2 2001-03-08  1638151200  \n",
       "3   NaN             9.3 2001-03-08  1638154800  \n",
       "4   NaN             9.3 2001-03-08  1638158400  "
      ]
     },
     "execution_count": 9,
     "metadata": {},
     "output_type": "execute_result"
    }
   ],
   "source": [
    "# convert datetime to unix\n",
    "df = pd.read_csv('clean_weather/valid_dates/m1_valid_dates.csv', parse_dates=['date', 'time'])\n",
    "start_date = min(df['time'])\n",
    "end_date = max(df['time'])\n",
    "\n",
    "df['timestamps'] = pd.to_datetime(df['time'])\n",
    "df['timestamps'] = (df['timestamps'] - pd.Timestamp(\"1970-01-01\")) // pd.Timedelta('1s')  \n",
    "\n",
    "df.head()\n"
   ]
  },
  {
   "cell_type": "code",
   "execution_count": 5,
   "metadata": {},
   "outputs": [
    {
     "data": {
      "text/plain": [
       "Int64Index([1547559000], dtype='int64')"
      ]
     },
     "execution_count": 5,
     "metadata": {},
     "output_type": "execute_result"
    }
   ],
   "source": [
    "dates = pd.to_datetime(['2019-01-15 13:30:00'])\n",
    "(dates - pd.Timestamp(\"1970-01-01\")) // pd.Timedelta('1s')  \n",
    "# Int64Index([1547559000], dtype='int64')"
   ]
  },
  {
   "cell_type": "code",
   "execution_count": null,
   "metadata": {},
   "outputs": [],
   "source": [
    "# plot data in time \n"
   ]
  },
  {
   "cell_type": "code",
   "execution_count": null,
   "metadata": {},
   "outputs": [],
   "source": [
    "# predict using daily seasonality"
   ]
  }
 ],
 "metadata": {
  "interpreter": {
   "hash": "c4f3a0e336a38bae68654725b3a3f1cf72721c49ae4cdf2f579a678d5e71f98f"
  },
  "kernelspec": {
   "display_name": "Python 3.8.8 64-bit ('fyp': conda)",
   "language": "python",
   "name": "python3"
  },
  "language_info": {
   "codemirror_mode": {
    "name": "ipython",
    "version": 3
   },
   "file_extension": ".py",
   "mimetype": "text/x-python",
   "name": "python",
   "nbconvert_exporter": "python",
   "pygments_lexer": "ipython3",
   "version": "3.8.8"
  },
  "orig_nbformat": 4
 },
 "nbformat": 4,
 "nbformat_minor": 2
}
